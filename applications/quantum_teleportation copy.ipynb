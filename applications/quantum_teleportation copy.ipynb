{
 "cells": [
  {
   "cell_type": "code",
   "execution_count": 17,
   "metadata": {},
   "outputs": [],
   "source": [
    "import cudaq\n",
    "import numpy as np \n",
    "cudaq.set_target('qpp-cpu')\n",
    "cudaq.set_random_seed(23)"
   ]
  },
  {
   "cell_type": "code",
   "execution_count": 82,
   "metadata": {},
   "outputs": [
    {
     "name": "stdout",
     "output_type": "stream",
     "text": [
      "(0,0)\n",
      "(0,0)\n",
      "(0,0)\n",
      "(0,0)\n",
      "(0,0)\n",
      "(0,0)\n",
      "(0,0)\n",
      "(1,0)\n",
      "\n"
     ]
    }
   ],
   "source": [
    "@cudaq.kernel \n",
    "def psi(): \n",
    "    \n",
    "    qubits = cudaq.qvector(3)\n",
    "    \n",
    "    x(qubits[0])\n",
    "    x(qubits[1])\n",
    "    x(qubits[2])\n",
    "    \n",
    "sv = cudaq.get_state(psi)\n",
    "\n",
    "print(sv)"
   ]
  },
  {
   "cell_type": "code",
   "execution_count": null,
   "metadata": {},
   "outputs": [],
   "source": []
  },
  {
   "cell_type": "code",
   "execution_count": null,
   "metadata": {},
   "outputs": [],
   "source": []
  },
  {
   "cell_type": "code",
   "execution_count": null,
   "metadata": {},
   "outputs": [],
   "source": []
  },
  {
   "cell_type": "code",
   "execution_count": null,
   "metadata": {},
   "outputs": [],
   "source": []
  },
  {
   "cell_type": "code",
   "execution_count": null,
   "metadata": {},
   "outputs": [],
   "source": []
  },
  {
   "cell_type": "code",
   "execution_count": null,
   "metadata": {},
   "outputs": [],
   "source": []
  },
  {
   "cell_type": "code",
   "execution_count": 21,
   "metadata": {},
   "outputs": [
    {
     "ename": "NameError",
     "evalue": "name 'fwerfewrqwr' is not defined",
     "output_type": "error",
     "traceback": [
      "\u001b[0;31m---------------------------------------------------------------------------\u001b[0m",
      "\u001b[0;31mNameError\u001b[0m                                 Traceback (most recent call last)",
      "Cell \u001b[0;32mIn[21], line 1\u001b[0m\n\u001b[0;32m----> 1\u001b[0m \u001b[43mfwerfewrqwr\u001b[49m\n",
      "\u001b[0;31mNameError\u001b[0m: name 'fwerfewrqwr' is not defined"
     ]
    }
   ],
   "source": [
    "fwerfewrqwr"
   ]
  },
  {
   "cell_type": "code",
   "execution_count": null,
   "metadata": {},
   "outputs": [],
   "source": [
    "@cudaq.kernel \n",
    "def psi(): \n",
    "    \n",
    "    # Initialize a 3 qubit quantum circuit \n",
    "    qubits = cudaq.qvector(3)\n",
    "    \n",
    "    # Psi0 - random quantum state on qubit 0. \n",
    "    h(qubits[0])\n",
    "\n",
    "    # Psi0 - create a maximally entangled state on qubits 1 and 2.\n",
    "    h(qubits[1])\n",
    "    cx(qubits[1], qubits[2])\n",
    "\n",
    "@cudaq.kernel \n",
    "def teleportation(): \n",
    "    \n",
    "    # Initialize a 3 qubit quantum circuit \n",
    "    qubits = cudaq.qvector(3)\n",
    "    \n",
    "    # Psi0 - random quantum state on qubit 0. \n",
    "    h(qubits[0])\n",
    "\n",
    "    # Psi0 - create a maximally entangled state on qubits 1 and 2.\n",
    "    h(qubits[1])\n",
    "    cx(qubits[1], qubits[2])\n",
    "        \n",
    "    # Psi1\n",
    "    cx(qubits[0], qubits[1])\n",
    "    \n",
    "    # Psi2\n",
    "    h(qubits[0])\n",
    "    \n",
    "    # Psi3 - measure qubits 0 and 1 and store it in variables m1 and m2\n",
    "    m1 = mz(qubits[0])\n",
    "    m2 = mz(qubits[1])\n",
    "            \n",
    "    # # Psi4 - apply conditioned pauli operators dependent on the measurement result of qubits 0 and 1.\n",
    "\n",
    "    if m1 == 1: \n",
    "        z(qubits[2])\n",
    "    \n",
    "    if m2 == 1: \n",
    "        x(qubits[2])\n",
    "            \n"
   ]
  },
  {
   "cell_type": "code",
   "execution_count": null,
   "metadata": {},
   "outputs": [],
   "source": [
    "snapshot0 = np.array(cudaq.get_state(psi))\n",
    "\n",
    "snapshot4 = np.array(cudaq.get_state(teleportation))"
   ]
  },
  {
   "cell_type": "code",
   "execution_count": null,
   "metadata": {},
   "outputs": [],
   "source": [
    "import numpy as np\n",
    "\n",
    "def partial_trace(state_vector, trace_systems):\n",
    "    \"\"\"\n",
    "    Partial trace of multi-particle quantum state. \n",
    "\n",
    "    Arguments:\n",
    "        state_vector: complex vector of size 2**n (representing the quantum state).\n",
    "        trace_systems (list[int]): a list of subsystems (starting from 0) to trace over.\n",
    "    \n",
    "    Returns:\n",
    "        ndarray: A reduced density matrix with the appropriate subsystems traced over.\n",
    "    \"\"\"\n",
    "    \n",
    "    # Determine the number of qubits from the size of the state vector\n",
    "    n_qubits = int(np.log2(state_vector.shape[0]))\n",
    "    \n",
    "    # Create the full density matrix from the state vector: ρ = |ψ⟩⟨ψ|\n",
    "    rho = np.outer(state_vector, state_vector.conj())\n",
    "    \n",
    "    # Reshape the density matrix into a multi-dimensional array\n",
    "    new_shape = [2] * (2 * n_qubits)\n",
    "    rho = rho.reshape(new_shape)\n",
    "    \n",
    "    # Perform the partial trace by summing over the appropriate axes\n",
    "    for system in sorted(trace_systems, reverse=True):\n",
    "        rho = np.trace(rho, axis1=system, axis2=n_qubits + system)\n",
    "        n_qubits -= 1  # Each trace reduces the system size by one qubit\n",
    "    \n",
    "    # Return the reduced density matrix\n",
    "    reduced_dim = 2 ** (n_qubits)\n",
    "    return rho.reshape((reduced_dim, reduced_dim))\n"
   ]
  },
  {
   "cell_type": "code",
   "execution_count": null,
   "metadata": {},
   "outputs": [],
   "source": [
    "# Function to be used below to calculate the partial trace yielding a density matrix.\n",
    "\n",
    "def partial_trace_og(state_vector, trace_systems):\n",
    "    \"\"\"\n",
    "    Partial trace of multi-particle quantum state. \n",
    "\n",
    "    Arguments:\n",
    "        state_vector: complex vector  of size 2**n\n",
    "        trace_systems (list(int)): a list of subsystems (starting from 0) to trace over. \n",
    "        dimensions (list(int)): a list of the dimensions of the subsystems.\n",
    "  \n",
    "    Returns:\n",
    "        ndarray: A density matrix with the appropriate subsystems traced over.\n",
    "    \"\"\"\n",
    "    \n",
    "    n_qubits = int(np.log2(state_vector.shape[0]))\n",
    "    \n",
    "    dimensions = [2 for i in range(n_qubits)]\n",
    "    \n",
    "    rho = state_vector.reshape(dimensions)\n",
    "    rho = np.tensordot(rho, rho.conj(), axes=(trace_systems, trace_systems))\n",
    "    d = int(np.sqrt(np.prod(rho.shape)))\n",
    "\n",
    "    return rho.reshape(d, d)"
   ]
  },
  {
   "cell_type": "code",
   "execution_count": null,
   "metadata": {},
   "outputs": [],
   "source": [
    "\n",
    "state_of_q0 = partial_trace_og(state_vector = snapshot0, trace_systems=[1, 2])\n",
    "\n",
    "state_of_q2 = partial_trace_og(state_vector = snapshot4, trace_systems=[0, 1])\n",
    "\n",
    "np.allclose(state_of_q0, state_of_q2)"
   ]
  },
  {
   "cell_type": "code",
   "execution_count": null,
   "metadata": {},
   "outputs": [],
   "source": [
    "state_of_q0"
   ]
  },
  {
   "cell_type": "code",
   "execution_count": null,
   "metadata": {},
   "outputs": [],
   "source": [
    "state_of_q2"
   ]
  },
  {
   "cell_type": "code",
   "execution_count": null,
   "metadata": {},
   "outputs": [],
   "source": [
    "\n",
    "state_of_q0 = partial_trace(state_vector = snapshot0, trace_systems=[1, 2])\n",
    "\n",
    "state_of_q2 = partial_trace(state_vector = snapshot4, trace_systems=[0, 1])\n",
    "\n",
    "np.allclose(state_of_q0, state_of_q2)"
   ]
  },
  {
   "cell_type": "code",
   "execution_count": null,
   "metadata": {},
   "outputs": [],
   "source": [
    "state_of_q0"
   ]
  },
  {
   "cell_type": "code",
   "execution_count": null,
   "metadata": {},
   "outputs": [],
   "source": [
    "state_of_q2"
   ]
  }
 ],
 "metadata": {
  "kernelspec": {
   "display_name": "Python 3",
   "language": "python",
   "name": "python3"
  },
  "language_info": {
   "codemirror_mode": {
    "name": "ipython",
    "version": 3
   },
   "file_extension": ".py",
   "mimetype": "text/x-python",
   "name": "python",
   "nbconvert_exporter": "python",
   "pygments_lexer": "ipython3",
   "version": "3.10.12"
  },
  "orig_nbformat": 4,
  "vscode": {
   "interpreter": {
    "hash": "31f2aee4e71d21fbe5cf8b01ff0e069b9275f58929596ceb00d14d90e3e16cd6"
   }
  }
 },
 "nbformat": 4,
 "nbformat_minor": 2
}
