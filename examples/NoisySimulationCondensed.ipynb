{
 "cells": [
  {
   "cell_type": "markdown",
   "id": "319448ec-26cb-43cc-ba82-0ce4f0cd5070",
   "metadata": {},
   "source": [
    "# Noisy Simulations\n",
    "\n",
    "CUDA-Q provides the capabilites to perform noisy quantum circuit simulations. "
   ]
  },
  {
   "cell_type": "markdown",
   "id": "eef59923-347e-4d48-a2c2-b0cfa3c49891",
   "metadata": {},
   "source": [
    "### Predefined Noise Channels\n",
    "\n",
    "You can define the following types noise channels in CUDA-Q:\n",
    "\n",
    "1. DepolarizationChannel - Quantum state Decays into a mix of basis states\n",
    "2. AmplitudeDampingChannel - Qubit decays to ground state\n",
    "3. BitFlipChannel - Bit flip occurs (180 degree around X axis)\n",
    "4. PhaseFlipChannel - Phase flip occurs (180 degree rotation around Z axis)\n",
    "\n",
    "The cell below demonstrates how to build a bit flip noise channel.  You can use the same code,and swap out any of the other noise channels.\n",
    "\n",
    "Note that all noisy simulations must use the `density-matrix-cpu` backend."
   ]
  },
  {
   "cell_type": "code",
   "execution_count": 2,
   "id": "67c3fb50-fab4-4377-8d58-4a971a40730e",
   "metadata": {},
   "outputs": [
    {
     "name": "stdout",
     "output_type": "stream",
     "text": [
      "{ 0:477 1:523 }\n",
      "\n",
      "{ 1:1000 }\n",
      "\n"
     ]
    }
   ],
   "source": [
    "import cudaq\n",
    "\n",
    "cudaq.set_target('density-matrix-cpu')\n",
    "\n",
    "noise = cudaq.NoiseModel() # Build an empty noise model\n",
    "\n",
    "bit_flip = cudaq.BitFlipChannel(0.5) # Defines bit flip channel with a probability of error\n",
    "\n",
    "noise.add_channel('x', [0], bit_flip) # Adds the bit flip error to X gates on qubit 0\n",
    "\n",
    "@cudaq.kernel\n",
    "def kernel():\n",
    "    qubit = cudaq.qubit()\n",
    "    x(qubit)\n",
    "    mz(qubit)\n",
    "\n",
    "noisy_result = cudaq.sample(kernel, noise_model=noise)\n",
    "print(noisy_result)\n",
    "\n",
    "noiseless_result = cudaq.sample(kernel)\n",
    "print(noiseless_result)"
   ]
  },
  {
   "cell_type": "markdown",
   "id": "fb79ad2d-8a71-4e5c-b8ae-93fdfa929ccf",
   "metadata": {},
   "source": [
    "### Custom Noise Channels\n",
    "\n",
    "Custom incoherent noise channels can be defined using linear, completely positive, and trace preserving maps. These maps are called Kraus operators $\\{K_i\\}$, which satisfy the condition $\\sum_i K_i^{\\dagger}K_i = \\mathbb{I}$. The operators below define a bit flip error.\n",
    "\n",
    "\n",
    "$$ K_0 = \\sqrt{1-p} \\Biggr(\\begin{matrix} \n",
    "1 & 0 \\\\ \n",
    "0 & 1\n",
    "\\end{matrix}\\Biggr)$$\n",
    "\n",
    "$$ K_1 = \\sqrt{p} \\Biggr(\\begin{matrix} \n",
    "0 & 1 \\\\ \n",
    "1 & 0\n",
    "\\end{matrix}\\Biggr)$$\n",
    "\n",
    "\n",
    "Using Kraus operators follows the same code pattern defined above, except for the operators are defined as 2x2 Numpy arrays and then provided as inputs to `cudaq.KrausChannel`"
   ]
  },
  {
   "cell_type": "code",
   "execution_count": null,
   "id": "243727d3-a25a-4057-a83a-d1e84677f800",
   "metadata": {},
   "outputs": [],
   "source": [
    "import numpy as np\n",
    "\n",
    "error_probability = .5\n",
    "\n",
    "kraus_0 = np.sqrt(1 - error_probability) * np.array([[1.0, 0.0], [0.0, 1.0]],\n",
    "                                                    dtype=np.complex128)\n",
    "\n",
    "kraus_1 = np.sqrt(error_probability) * np.array([[0.0, 1.0], [1.0, 0.0]],\n",
    "                                                dtype=np.complex128)\n",
    "\n",
    "bitflip_channel = cudaq.KrausChannel([kraus_0, kraus_1])"
   ]
  }
 ],
 "metadata": {
  "kernelspec": {
   "display_name": "Python 3 (ipykernel)",
   "language": "python",
   "name": "python3"
  },
  "language_info": {
   "codemirror_mode": {
    "name": "ipython",
    "version": 3
   },
   "file_extension": ".py",
   "mimetype": "text/x-python",
   "name": "python",
   "nbconvert_exporter": "python",
   "pygments_lexer": "ipython3",
   "version": "3.10.12"
  }
 },
 "nbformat": 4,
 "nbformat_minor": 5
}
