{
 "cells": [
  {
   "cell_type": "markdown",
   "id": "13858fc6-edc7-49cb-8b56-152ebec2f729",
   "metadata": {},
   "source": [
    "# Building Kernels and Applying Gates\n",
    "\n",
    "This section will cover the most basic CUDA-Q construct, a quantum kernel. Topics include, building kernels, initializing states, and applying gate operations."
   ]
  },
  {
   "cell_type": "markdown",
   "id": "bb9f7912-cb38-463c-b604-4657848b6f68",
   "metadata": {},
   "source": [
    "### Defining Kernels\n",
    "\n",
    "Kernels are the building blocks of quantum algorithms in CUDA-Q. A kernel is specified by using the following syntax. `cudaq.qubit` builds a register consisting of a single qubit, while `cudaq.qvector` builds a register of $N$ qubits."
   ]
  },
  {
   "cell_type": "code",
   "execution_count": 1,
   "id": "0c312467-3ba7-43fb-b820-d1ee2ced7fc3",
   "metadata": {},
   "outputs": [],
   "source": [
    "import cudaq"
   ]
  },
  {
   "cell_type": "code",
   "execution_count": 2,
   "id": "d9af7484-a69b-4239-b8b9-1abb47ee9421",
   "metadata": {},
   "outputs": [],
   "source": [
    "@cudaq.kernel\n",
    "def kernel():\n",
    "    A = cudaq.qubit()\n",
    "    B = cudaq.qvector(3)\n",
    "    C = cudaq.qvector(5)"
   ]
  },
  {
   "cell_type": "markdown",
   "id": "83459bfa-b0b8-4d6b-bb31-2e708da5a30e",
   "metadata": {},
   "source": [
    "Inputs to kernels are defined by specifying a parameter in the kernel definition along with the appropriate type. The kernel below takes an integer to define a register of N qubits."
   ]
  },
  {
   "cell_type": "code",
   "execution_count": 2,
   "id": "58af9585-a2c7-4059-983b-670962bdf65c",
   "metadata": {},
   "outputs": [
    {
     "ename": "NameError",
     "evalue": "name 'cudaq' is not defined",
     "output_type": "error",
     "traceback": [
      "\u001b[0;31m---------------------------------------------------------------------------\u001b[0m",
      "\u001b[0;31mNameError\u001b[0m                                 Traceback (most recent call last)",
      "Cell \u001b[0;32mIn[2], line 3\u001b[0m\n\u001b[1;32m      1\u001b[0m N \u001b[38;5;241m=\u001b[39m \u001b[38;5;241m2\u001b[39m\n\u001b[0;32m----> 3\u001b[0m \u001b[38;5;129m@cudaq\u001b[39m\u001b[38;5;241m.\u001b[39mkernel\n\u001b[1;32m      4\u001b[0m \u001b[38;5;28;01mdef\u001b[39;00m \u001b[38;5;21mkernel\u001b[39m(N: \u001b[38;5;28mint\u001b[39m):\n\u001b[1;32m      5\u001b[0m     register \u001b[38;5;241m=\u001b[39m cudaq\u001b[38;5;241m.\u001b[39mqvector(N)\n",
      "\u001b[0;31mNameError\u001b[0m: name 'cudaq' is not defined"
     ]
    }
   ],
   "source": [
    "N = 2\n",
    "\n",
    "@cudaq.kernel\n",
    "def kernel(N: int):\n",
    "    register = cudaq.qvector(N)"
   ]
  },
  {
   "cell_type": "markdown",
   "id": "7866f4c5-4b8c-408b-8980-8ebca60f28b8",
   "metadata": {},
   "source": [
    "### Initializing states\n",
    "\n",
    "It is often helpful to define an initial state for a kernel. There are a few ways to do this in CUDA-Q. Note, method 5 is particularly useful for cases where the state of one kernel is passed into a second kernel to prepare its initial state.\n",
    "\n",
    "1. Passing complex vectors as parameters\n",
    "2. Capturing complex vectors\n",
    "3. Precision-agnostic API\n",
    "4. Define as CUDA-Q amplitudes\n",
    "5. Pass in a state from another kernel"
   ]
  },
  {
   "cell_type": "code",
   "execution_count": 2,
   "id": "eb933031-b882-49b2-9662-515b3014ddb9",
   "metadata": {},
   "outputs": [
    {
     "ename": "TypeError",
     "evalue": "get(): incompatible function arguments. The following argument types are supported:\n    1. (type: cudaq.mlir._mlir_libs._mlir.ir.Type, value: float, loc: mlir.ir.Location = None) -> cudaq.mlir._mlir_libs._mlir.ir.FloatAttr\n\nInvoked with: Type(f64), (-0-0.707j)",
     "output_type": "error",
     "traceback": [
      "\u001b[0;31m---------------------------------------------------------------------------\u001b[0m",
      "\u001b[0;31mTypeError\u001b[0m                                 Traceback (most recent call last)",
      "Cell \u001b[0;32mIn[2], line 8\u001b[0m\n\u001b[1;32m      3\u001b[0m \u001b[38;5;129m@cudaq\u001b[39m\u001b[38;5;241m.\u001b[39mkernel\n\u001b[1;32m      4\u001b[0m \u001b[38;5;28;01mdef\u001b[39;00m \u001b[38;5;21mkernel\u001b[39m():\n\u001b[1;32m      5\u001b[0m     q \u001b[38;5;241m=\u001b[39m cudaq\u001b[38;5;241m.\u001b[39mqvector(c)\n\u001b[0;32m----> 8\u001b[0m \u001b[38;5;28mprint\u001b[39m(\u001b[43mcudaq\u001b[49m\u001b[38;5;241;43m.\u001b[39;49m\u001b[43mget_state\u001b[49m\u001b[43m(\u001b[49m\u001b[43mkernel\u001b[49m\u001b[43m)\u001b[49m)\n",
      "File \u001b[0;32m/opt/nvidia/cudaq/cudaq/kernel/kernel_decorator.py:209\u001b[0m, in \u001b[0;36mPyKernelDecorator.compile\u001b[0;34m(self)\u001b[0m\n\u001b[1;32m    206\u001b[0m \u001b[38;5;28;01mif\u001b[39;00m \u001b[38;5;28mself\u001b[39m\u001b[38;5;241m.\u001b[39mmodule \u001b[38;5;241m!=\u001b[39m \u001b[38;5;28;01mNone\u001b[39;00m:\n\u001b[1;32m    207\u001b[0m     \u001b[38;5;28;01mreturn\u001b[39;00m\n\u001b[0;32m--> 209\u001b[0m \u001b[38;5;28mself\u001b[39m\u001b[38;5;241m.\u001b[39mmodule, \u001b[38;5;28mself\u001b[39m\u001b[38;5;241m.\u001b[39margTypes, extraMetadata \u001b[38;5;241m=\u001b[39m \u001b[43mcompile_to_mlir\u001b[49m\u001b[43m(\u001b[49m\n\u001b[1;32m    210\u001b[0m \u001b[43m    \u001b[49m\u001b[38;5;28;43mself\u001b[39;49m\u001b[38;5;241;43m.\u001b[39;49m\u001b[43mastModule\u001b[49m\u001b[43m,\u001b[49m\n\u001b[1;32m    211\u001b[0m \u001b[43m    \u001b[49m\u001b[38;5;28;43mself\u001b[39;49m\u001b[38;5;241;43m.\u001b[39;49m\u001b[43mmetadata\u001b[49m\u001b[43m,\u001b[49m\n\u001b[1;32m    212\u001b[0m \u001b[43m    \u001b[49m\u001b[38;5;28;43mself\u001b[39;49m\u001b[38;5;241;43m.\u001b[39;49m\u001b[43mcapturedDataStorage\u001b[49m\u001b[43m,\u001b[49m\n\u001b[1;32m    213\u001b[0m \u001b[43m    \u001b[49m\u001b[43mverbose\u001b[49m\u001b[38;5;241;43m=\u001b[39;49m\u001b[38;5;28;43mself\u001b[39;49m\u001b[38;5;241;43m.\u001b[39;49m\u001b[43mverbose\u001b[49m\u001b[43m,\u001b[49m\n\u001b[1;32m    214\u001b[0m \u001b[43m    \u001b[49m\u001b[43mreturnType\u001b[49m\u001b[38;5;241;43m=\u001b[39;49m\u001b[38;5;28;43mself\u001b[39;49m\u001b[38;5;241;43m.\u001b[39;49m\u001b[43mreturnType\u001b[49m\u001b[43m,\u001b[49m\n\u001b[1;32m    215\u001b[0m \u001b[43m    \u001b[49m\u001b[43mlocation\u001b[49m\u001b[38;5;241;43m=\u001b[39;49m\u001b[38;5;28;43mself\u001b[39;49m\u001b[38;5;241;43m.\u001b[39;49m\u001b[43mlocation\u001b[49m\u001b[43m,\u001b[49m\n\u001b[1;32m    216\u001b[0m \u001b[43m    \u001b[49m\u001b[43mparentVariables\u001b[49m\u001b[38;5;241;43m=\u001b[39;49m\u001b[38;5;28;43mself\u001b[39;49m\u001b[38;5;241;43m.\u001b[39;49m\u001b[43mglobalScopedVars\u001b[49m\u001b[43m)\u001b[49m\n\u001b[1;32m    218\u001b[0m \u001b[38;5;66;03m# Grab the dependent capture variables, if any\u001b[39;00m\n\u001b[1;32m    219\u001b[0m \u001b[38;5;28mself\u001b[39m\u001b[38;5;241m.\u001b[39mdependentCaptures \u001b[38;5;241m=\u001b[39m extraMetadata[\n\u001b[1;32m    220\u001b[0m     \u001b[38;5;124m'\u001b[39m\u001b[38;5;124mdependent_captures\u001b[39m\u001b[38;5;124m'\u001b[39m] \u001b[38;5;28;01mif\u001b[39;00m \u001b[38;5;124m'\u001b[39m\u001b[38;5;124mdependent_captures\u001b[39m\u001b[38;5;124m'\u001b[39m \u001b[38;5;129;01min\u001b[39;00m extraMetadata \u001b[38;5;28;01melse\u001b[39;00m \u001b[38;5;28;01mNone\u001b[39;00m\n",
      "File \u001b[0;32m/opt/nvidia/cudaq/cudaq/kernel/ast_bridge.py:3915\u001b[0m, in \u001b[0;36mcompile_to_mlir\u001b[0;34m(astModule, metadata, capturedDataStorage, **kwargs)\u001b[0m\n\u001b[1;32m   3909\u001b[0m         PyASTBridge(capturedDataStorage,\n\u001b[1;32m   3910\u001b[0m                     existingModule\u001b[38;5;241m=\u001b[39mbridge\u001b[38;5;241m.\u001b[39mmodule,\n\u001b[1;32m   3911\u001b[0m                     locationOffset\u001b[38;5;241m=\u001b[39mdepKernels[funcName][\u001b[38;5;241m1\u001b[39m])\u001b[38;5;241m.\u001b[39mvisit(\n\u001b[1;32m   3912\u001b[0m                         depKernels[funcName][\u001b[38;5;241m0\u001b[39m])\n\u001b[1;32m   3914\u001b[0m \u001b[38;5;66;03m# Build the MLIR Module for this kernel\u001b[39;00m\n\u001b[0;32m-> 3915\u001b[0m \u001b[43mbridge\u001b[49m\u001b[38;5;241;43m.\u001b[39;49m\u001b[43mvisit\u001b[49m\u001b[43m(\u001b[49m\u001b[43mastModule\u001b[49m\u001b[43m)\u001b[49m\n\u001b[1;32m   3917\u001b[0m \u001b[38;5;28;01mif\u001b[39;00m verbose:\n\u001b[1;32m   3918\u001b[0m     \u001b[38;5;28mprint\u001b[39m(bridge\u001b[38;5;241m.\u001b[39mmodule)\n",
      "File \u001b[0;32m/usr/lib/python3.10/ast.py:418\u001b[0m, in \u001b[0;36mNodeVisitor.visit\u001b[0;34m(self, node)\u001b[0m\n\u001b[1;32m    416\u001b[0m method \u001b[38;5;241m=\u001b[39m \u001b[38;5;124m'\u001b[39m\u001b[38;5;124mvisit_\u001b[39m\u001b[38;5;124m'\u001b[39m \u001b[38;5;241m+\u001b[39m node\u001b[38;5;241m.\u001b[39m\u001b[38;5;18m__class__\u001b[39m\u001b[38;5;241m.\u001b[39m\u001b[38;5;18m__name__\u001b[39m\n\u001b[1;32m    417\u001b[0m visitor \u001b[38;5;241m=\u001b[39m \u001b[38;5;28mgetattr\u001b[39m(\u001b[38;5;28mself\u001b[39m, method, \u001b[38;5;28mself\u001b[39m\u001b[38;5;241m.\u001b[39mgeneric_visit)\n\u001b[0;32m--> 418\u001b[0m \u001b[38;5;28;01mreturn\u001b[39;00m \u001b[43mvisitor\u001b[49m\u001b[43m(\u001b[49m\u001b[43mnode\u001b[49m\u001b[43m)\u001b[49m\n",
      "File \u001b[0;32m/opt/nvidia/cudaq/cudaq/kernel/ast_bridge.py:858\u001b[0m, in \u001b[0;36mPyASTBridge.generic_visit\u001b[0;34m(self, node)\u001b[0m\n\u001b[1;32m    856\u001b[0m     \u001b[38;5;28;01mfor\u001b[39;00m item \u001b[38;5;129;01min\u001b[39;00m value:\n\u001b[1;32m    857\u001b[0m         \u001b[38;5;28;01mif\u001b[39;00m \u001b[38;5;28misinstance\u001b[39m(item, ast\u001b[38;5;241m.\u001b[39mAST):\n\u001b[0;32m--> 858\u001b[0m             \u001b[38;5;28;43mself\u001b[39;49m\u001b[38;5;241;43m.\u001b[39;49m\u001b[43mvisit\u001b[49m\u001b[43m(\u001b[49m\u001b[43mitem\u001b[49m\u001b[43m)\u001b[49m\n\u001b[1;32m    859\u001b[0m \u001b[38;5;28;01melif\u001b[39;00m \u001b[38;5;28misinstance\u001b[39m(value, ast\u001b[38;5;241m.\u001b[39mAST):\n\u001b[1;32m    860\u001b[0m     \u001b[38;5;28mself\u001b[39m\u001b[38;5;241m.\u001b[39mvisit(value)\n",
      "File \u001b[0;32m/usr/lib/python3.10/ast.py:418\u001b[0m, in \u001b[0;36mNodeVisitor.visit\u001b[0;34m(self, node)\u001b[0m\n\u001b[1;32m    416\u001b[0m method \u001b[38;5;241m=\u001b[39m \u001b[38;5;124m'\u001b[39m\u001b[38;5;124mvisit_\u001b[39m\u001b[38;5;124m'\u001b[39m \u001b[38;5;241m+\u001b[39m node\u001b[38;5;241m.\u001b[39m\u001b[38;5;18m__class__\u001b[39m\u001b[38;5;241m.\u001b[39m\u001b[38;5;18m__name__\u001b[39m\n\u001b[1;32m    417\u001b[0m visitor \u001b[38;5;241m=\u001b[39m \u001b[38;5;28mgetattr\u001b[39m(\u001b[38;5;28mself\u001b[39m, method, \u001b[38;5;28mself\u001b[39m\u001b[38;5;241m.\u001b[39mgeneric_visit)\n\u001b[0;32m--> 418\u001b[0m \u001b[38;5;28;01mreturn\u001b[39;00m \u001b[43mvisitor\u001b[49m\u001b[43m(\u001b[49m\u001b[43mnode\u001b[49m\u001b[43m)\u001b[49m\n",
      "File \u001b[0;32m/opt/nvidia/cudaq/cudaq/kernel/ast_bridge.py:967\u001b[0m, in \u001b[0;36mPyASTBridge.visit_FunctionDef\u001b[0;34m(self, node)\u001b[0m\n\u001b[1;32m    965\u001b[0m         \u001b[38;5;28;01mif\u001b[39;00m \u001b[38;5;28misinstance\u001b[39m(constant\u001b[38;5;241m.\u001b[39mvalue, \u001b[38;5;28mstr\u001b[39m):\n\u001b[1;32m    966\u001b[0m             startIdx \u001b[38;5;241m=\u001b[39m \u001b[38;5;241m1\u001b[39m\n\u001b[0;32m--> 967\u001b[0m [\u001b[38;5;28mself\u001b[39m\u001b[38;5;241m.\u001b[39mvisit(n) \u001b[38;5;28;01mfor\u001b[39;00m n \u001b[38;5;129;01min\u001b[39;00m node\u001b[38;5;241m.\u001b[39mbody[startIdx:]]\n\u001b[1;32m    968\u001b[0m \u001b[38;5;66;03m# Add the return operation\u001b[39;00m\n\u001b[1;32m    969\u001b[0m \u001b[38;5;28;01mif\u001b[39;00m \u001b[38;5;129;01mnot\u001b[39;00m \u001b[38;5;28mself\u001b[39m\u001b[38;5;241m.\u001b[39mhasTerminator(\u001b[38;5;28mself\u001b[39m\u001b[38;5;241m.\u001b[39mentry):\n",
      "File \u001b[0;32m/opt/nvidia/cudaq/cudaq/kernel/ast_bridge.py:967\u001b[0m, in \u001b[0;36m<listcomp>\u001b[0;34m(.0)\u001b[0m\n\u001b[1;32m    965\u001b[0m         \u001b[38;5;28;01mif\u001b[39;00m \u001b[38;5;28misinstance\u001b[39m(constant\u001b[38;5;241m.\u001b[39mvalue, \u001b[38;5;28mstr\u001b[39m):\n\u001b[1;32m    966\u001b[0m             startIdx \u001b[38;5;241m=\u001b[39m \u001b[38;5;241m1\u001b[39m\n\u001b[0;32m--> 967\u001b[0m [\u001b[38;5;28;43mself\u001b[39;49m\u001b[38;5;241;43m.\u001b[39;49m\u001b[43mvisit\u001b[49m\u001b[43m(\u001b[49m\u001b[43mn\u001b[49m\u001b[43m)\u001b[49m \u001b[38;5;28;01mfor\u001b[39;00m n \u001b[38;5;129;01min\u001b[39;00m node\u001b[38;5;241m.\u001b[39mbody[startIdx:]]\n\u001b[1;32m    968\u001b[0m \u001b[38;5;66;03m# Add the return operation\u001b[39;00m\n\u001b[1;32m    969\u001b[0m \u001b[38;5;28;01mif\u001b[39;00m \u001b[38;5;129;01mnot\u001b[39;00m \u001b[38;5;28mself\u001b[39m\u001b[38;5;241m.\u001b[39mhasTerminator(\u001b[38;5;28mself\u001b[39m\u001b[38;5;241m.\u001b[39mentry):\n",
      "File \u001b[0;32m/usr/lib/python3.10/ast.py:418\u001b[0m, in \u001b[0;36mNodeVisitor.visit\u001b[0;34m(self, node)\u001b[0m\n\u001b[1;32m    416\u001b[0m method \u001b[38;5;241m=\u001b[39m \u001b[38;5;124m'\u001b[39m\u001b[38;5;124mvisit_\u001b[39m\u001b[38;5;124m'\u001b[39m \u001b[38;5;241m+\u001b[39m node\u001b[38;5;241m.\u001b[39m\u001b[38;5;18m__class__\u001b[39m\u001b[38;5;241m.\u001b[39m\u001b[38;5;18m__name__\u001b[39m\n\u001b[1;32m    417\u001b[0m visitor \u001b[38;5;241m=\u001b[39m \u001b[38;5;28mgetattr\u001b[39m(\u001b[38;5;28mself\u001b[39m, method, \u001b[38;5;28mself\u001b[39m\u001b[38;5;241m.\u001b[39mgeneric_visit)\n\u001b[0;32m--> 418\u001b[0m \u001b[38;5;28;01mreturn\u001b[39;00m \u001b[43mvisitor\u001b[49m\u001b[43m(\u001b[49m\u001b[43mnode\u001b[49m\u001b[43m)\u001b[49m\n",
      "File \u001b[0;32m/opt/nvidia/cudaq/cudaq/kernel/ast_bridge.py:1077\u001b[0m, in \u001b[0;36mPyASTBridge.visit_Assign\u001b[0;34m(self, node)\u001b[0m\n\u001b[1;32m   1075\u001b[0m \u001b[38;5;28;01mif\u001b[39;00m \u001b[38;5;28misinstance\u001b[39m(node\u001b[38;5;241m.\u001b[39mtargets[\u001b[38;5;241m0\u001b[39m], ast\u001b[38;5;241m.\u001b[39mName):\n\u001b[1;32m   1076\u001b[0m     \u001b[38;5;28mself\u001b[39m\u001b[38;5;241m.\u001b[39mcurrentAssignVariableName \u001b[38;5;241m=\u001b[39m \u001b[38;5;28mstr\u001b[39m(node\u001b[38;5;241m.\u001b[39mtargets[\u001b[38;5;241m0\u001b[39m]\u001b[38;5;241m.\u001b[39mid)\n\u001b[0;32m-> 1077\u001b[0m     \u001b[38;5;28;43mself\u001b[39;49m\u001b[38;5;241;43m.\u001b[39;49m\u001b[43mvisit\u001b[49m\u001b[43m(\u001b[49m\u001b[43mnode\u001b[49m\u001b[38;5;241;43m.\u001b[39;49m\u001b[43mvalue\u001b[49m\u001b[43m)\u001b[49m\n\u001b[1;32m   1078\u001b[0m     \u001b[38;5;28mself\u001b[39m\u001b[38;5;241m.\u001b[39mcurrentAssignVariableName \u001b[38;5;241m=\u001b[39m \u001b[38;5;28;01mNone\u001b[39;00m\n\u001b[1;32m   1079\u001b[0m \u001b[38;5;66;03m# Handle assignments like `listVar[IDX] = VALUE`\u001b[39;00m\n\u001b[1;32m   1080\u001b[0m \u001b[38;5;66;03m# `listVAR` must be in the symbol table\u001b[39;00m\n",
      "File \u001b[0;32m/usr/lib/python3.10/ast.py:418\u001b[0m, in \u001b[0;36mNodeVisitor.visit\u001b[0;34m(self, node)\u001b[0m\n\u001b[1;32m    416\u001b[0m method \u001b[38;5;241m=\u001b[39m \u001b[38;5;124m'\u001b[39m\u001b[38;5;124mvisit_\u001b[39m\u001b[38;5;124m'\u001b[39m \u001b[38;5;241m+\u001b[39m node\u001b[38;5;241m.\u001b[39m\u001b[38;5;18m__class__\u001b[39m\u001b[38;5;241m.\u001b[39m\u001b[38;5;18m__name__\u001b[39m\n\u001b[1;32m    417\u001b[0m visitor \u001b[38;5;241m=\u001b[39m \u001b[38;5;28mgetattr\u001b[39m(\u001b[38;5;28mself\u001b[39m, method, \u001b[38;5;28mself\u001b[39m\u001b[38;5;241m.\u001b[39mgeneric_visit)\n\u001b[0;32m--> 418\u001b[0m \u001b[38;5;28;01mreturn\u001b[39;00m \u001b[43mvisitor\u001b[49m\u001b[43m(\u001b[49m\u001b[43mnode\u001b[49m\u001b[43m)\u001b[49m\n",
      "File \u001b[0;32m/opt/nvidia/cudaq/cudaq/kernel/ast_bridge.py:2069\u001b[0m, in \u001b[0;36mPyASTBridge.visit_Call\u001b[0;34m(self, node)\u001b[0m\n\u001b[1;32m   2064\u001b[0m         \u001b[38;5;28;01mreturn\u001b[39;00m\n\u001b[1;32m   2066\u001b[0m     \u001b[38;5;28mself\u001b[39m\u001b[38;5;241m.\u001b[39memitFatalError(\n\u001b[1;32m   2067\u001b[0m         \u001b[38;5;124mf\u001b[39m\u001b[38;5;124m\"\u001b[39m\u001b[38;5;124munsupported NumPy call (\u001b[39m\u001b[38;5;132;01m{\u001b[39;00mnode\u001b[38;5;241m.\u001b[39mfunc\u001b[38;5;241m.\u001b[39mattr\u001b[38;5;132;01m}\u001b[39;00m\u001b[38;5;124m)\u001b[39m\u001b[38;5;124m\"\u001b[39m, node)\n\u001b[0;32m-> 2069\u001b[0m \u001b[38;5;28;43mself\u001b[39;49m\u001b[38;5;241;43m.\u001b[39;49m\u001b[43mgeneric_visit\u001b[49m\u001b[43m(\u001b[49m\u001b[43mnode\u001b[49m\u001b[43m)\u001b[49m\n\u001b[1;32m   2071\u001b[0m \u001b[38;5;28;01mif\u001b[39;00m node\u001b[38;5;241m.\u001b[39mfunc\u001b[38;5;241m.\u001b[39mvalue\u001b[38;5;241m.\u001b[39mid \u001b[38;5;241m==\u001b[39m \u001b[38;5;124m'\u001b[39m\u001b[38;5;124mcudaq\u001b[39m\u001b[38;5;124m'\u001b[39m:\n\u001b[1;32m   2072\u001b[0m     \u001b[38;5;28;01mif\u001b[39;00m node\u001b[38;5;241m.\u001b[39mfunc\u001b[38;5;241m.\u001b[39mattr \u001b[38;5;241m==\u001b[39m \u001b[38;5;124m'\u001b[39m\u001b[38;5;124mcomplex\u001b[39m\u001b[38;5;124m'\u001b[39m:\n",
      "File \u001b[0;32m/opt/nvidia/cudaq/cudaq/kernel/ast_bridge.py:858\u001b[0m, in \u001b[0;36mPyASTBridge.generic_visit\u001b[0;34m(self, node)\u001b[0m\n\u001b[1;32m    856\u001b[0m     \u001b[38;5;28;01mfor\u001b[39;00m item \u001b[38;5;129;01min\u001b[39;00m value:\n\u001b[1;32m    857\u001b[0m         \u001b[38;5;28;01mif\u001b[39;00m \u001b[38;5;28misinstance\u001b[39m(item, ast\u001b[38;5;241m.\u001b[39mAST):\n\u001b[0;32m--> 858\u001b[0m             \u001b[38;5;28;43mself\u001b[39;49m\u001b[38;5;241;43m.\u001b[39;49m\u001b[43mvisit\u001b[49m\u001b[43m(\u001b[49m\u001b[43mitem\u001b[49m\u001b[43m)\u001b[49m\n\u001b[1;32m    859\u001b[0m \u001b[38;5;28;01melif\u001b[39;00m \u001b[38;5;28misinstance\u001b[39m(value, ast\u001b[38;5;241m.\u001b[39mAST):\n\u001b[1;32m    860\u001b[0m     \u001b[38;5;28mself\u001b[39m\u001b[38;5;241m.\u001b[39mvisit(value)\n",
      "File \u001b[0;32m/usr/lib/python3.10/ast.py:418\u001b[0m, in \u001b[0;36mNodeVisitor.visit\u001b[0;34m(self, node)\u001b[0m\n\u001b[1;32m    416\u001b[0m method \u001b[38;5;241m=\u001b[39m \u001b[38;5;124m'\u001b[39m\u001b[38;5;124mvisit_\u001b[39m\u001b[38;5;124m'\u001b[39m \u001b[38;5;241m+\u001b[39m node\u001b[38;5;241m.\u001b[39m\u001b[38;5;18m__class__\u001b[39m\u001b[38;5;241m.\u001b[39m\u001b[38;5;18m__name__\u001b[39m\n\u001b[1;32m    417\u001b[0m visitor \u001b[38;5;241m=\u001b[39m \u001b[38;5;28mgetattr\u001b[39m(\u001b[38;5;28mself\u001b[39m, method, \u001b[38;5;28mself\u001b[39m\u001b[38;5;241m.\u001b[39mgeneric_visit)\n\u001b[0;32m--> 418\u001b[0m \u001b[38;5;28;01mreturn\u001b[39;00m \u001b[43mvisitor\u001b[49m\u001b[43m(\u001b[49m\u001b[43mnode\u001b[49m\u001b[43m)\u001b[49m\n",
      "File \u001b[0;32m/opt/nvidia/cudaq/cudaq/kernel/ast_bridge.py:3762\u001b[0m, in \u001b[0;36mPyASTBridge.visit_Name\u001b[0;34m(self, node)\u001b[0m\n\u001b[1;32m   3760\u001b[0m elementValues \u001b[38;5;241m=\u001b[39m \u001b[38;5;28;01mNone\u001b[39;00m\n\u001b[1;32m   3761\u001b[0m \u001b[38;5;28;01mif\u001b[39;00m \u001b[38;5;28misinstance\u001b[39m(value[\u001b[38;5;241m0\u001b[39m], (\u001b[38;5;28mfloat\u001b[39m, np\u001b[38;5;241m.\u001b[39mfloat64)):\n\u001b[0;32m-> 3762\u001b[0m     elementValues \u001b[38;5;241m=\u001b[39m [\u001b[38;5;28mself\u001b[39m\u001b[38;5;241m.\u001b[39mgetConstantFloat(el) \u001b[38;5;28;01mfor\u001b[39;00m el \u001b[38;5;129;01min\u001b[39;00m value]\n\u001b[1;32m   3763\u001b[0m \u001b[38;5;28;01melif\u001b[39;00m \u001b[38;5;28misinstance\u001b[39m(value[\u001b[38;5;241m0\u001b[39m], np\u001b[38;5;241m.\u001b[39mfloat32):\n\u001b[1;32m   3764\u001b[0m     elementValues \u001b[38;5;241m=\u001b[39m [\n\u001b[1;32m   3765\u001b[0m         \u001b[38;5;28mself\u001b[39m\u001b[38;5;241m.\u001b[39mgetConstantFloat(el, width\u001b[38;5;241m=\u001b[39m\u001b[38;5;241m32\u001b[39m) \u001b[38;5;28;01mfor\u001b[39;00m el \u001b[38;5;129;01min\u001b[39;00m value\n\u001b[1;32m   3766\u001b[0m     ]\n",
      "File \u001b[0;32m/opt/nvidia/cudaq/cudaq/kernel/ast_bridge.py:3762\u001b[0m, in \u001b[0;36m<listcomp>\u001b[0;34m(.0)\u001b[0m\n\u001b[1;32m   3760\u001b[0m elementValues \u001b[38;5;241m=\u001b[39m \u001b[38;5;28;01mNone\u001b[39;00m\n\u001b[1;32m   3761\u001b[0m \u001b[38;5;28;01mif\u001b[39;00m \u001b[38;5;28misinstance\u001b[39m(value[\u001b[38;5;241m0\u001b[39m], (\u001b[38;5;28mfloat\u001b[39m, np\u001b[38;5;241m.\u001b[39mfloat64)):\n\u001b[0;32m-> 3762\u001b[0m     elementValues \u001b[38;5;241m=\u001b[39m [\u001b[38;5;28;43mself\u001b[39;49m\u001b[38;5;241;43m.\u001b[39;49m\u001b[43mgetConstantFloat\u001b[49m\u001b[43m(\u001b[49m\u001b[43mel\u001b[49m\u001b[43m)\u001b[49m \u001b[38;5;28;01mfor\u001b[39;00m el \u001b[38;5;129;01min\u001b[39;00m value]\n\u001b[1;32m   3763\u001b[0m \u001b[38;5;28;01melif\u001b[39;00m \u001b[38;5;28misinstance\u001b[39m(value[\u001b[38;5;241m0\u001b[39m], np\u001b[38;5;241m.\u001b[39mfloat32):\n\u001b[1;32m   3764\u001b[0m     elementValues \u001b[38;5;241m=\u001b[39m [\n\u001b[1;32m   3765\u001b[0m         \u001b[38;5;28mself\u001b[39m\u001b[38;5;241m.\u001b[39mgetConstantFloat(el, width\u001b[38;5;241m=\u001b[39m\u001b[38;5;241m32\u001b[39m) \u001b[38;5;28;01mfor\u001b[39;00m el \u001b[38;5;129;01min\u001b[39;00m value\n\u001b[1;32m   3766\u001b[0m     ]\n",
      "File \u001b[0;32m/opt/nvidia/cudaq/cudaq/kernel/ast_bridge.py:299\u001b[0m, in \u001b[0;36mPyASTBridge.getConstantFloat\u001b[0;34m(self, value, width)\u001b[0m\n\u001b[1;32m    294\u001b[0m \u001b[38;5;250m\u001b[39m\u001b[38;5;124;03m\"\"\"\u001b[39;00m\n\u001b[1;32m    295\u001b[0m \u001b[38;5;124;03mCreate a constant float operation and return its MLIR result Value.\u001b[39;00m\n\u001b[1;32m    296\u001b[0m \u001b[38;5;124;03mTakes as input the concrete float value.\u001b[39;00m\n\u001b[1;32m    297\u001b[0m \u001b[38;5;124;03m\"\"\"\u001b[39;00m\n\u001b[1;32m    298\u001b[0m ty \u001b[38;5;241m=\u001b[39m \u001b[38;5;28mself\u001b[39m\u001b[38;5;241m.\u001b[39mgetFloatType(width\u001b[38;5;241m=\u001b[39mwidth)\n\u001b[0;32m--> 299\u001b[0m \u001b[38;5;28;01mreturn\u001b[39;00m \u001b[38;5;28;43mself\u001b[39;49m\u001b[38;5;241;43m.\u001b[39;49m\u001b[43mgetConstantFloatWithType\u001b[49m\u001b[43m(\u001b[49m\u001b[43mvalue\u001b[49m\u001b[43m,\u001b[49m\u001b[43m \u001b[49m\u001b[43mty\u001b[49m\u001b[43m)\u001b[49m\n",
      "File \u001b[0;32m/opt/nvidia/cudaq/cudaq/kernel/ast_bridge.py:306\u001b[0m, in \u001b[0;36mPyASTBridge.getConstantFloatWithType\u001b[0;34m(self, value, ty)\u001b[0m\n\u001b[1;32m    301\u001b[0m \u001b[38;5;28;01mdef\u001b[39;00m \u001b[38;5;21mgetConstantFloatWithType\u001b[39m(\u001b[38;5;28mself\u001b[39m, value, ty):\n\u001b[1;32m    302\u001b[0m \u001b[38;5;250m    \u001b[39m\u001b[38;5;124;03m\"\"\"\u001b[39;00m\n\u001b[1;32m    303\u001b[0m \u001b[38;5;124;03m    Create a constant float operation and return its MLIR result Value.\u001b[39;00m\n\u001b[1;32m    304\u001b[0m \u001b[38;5;124;03m    Takes as input the concrete float value.\u001b[39;00m\n\u001b[1;32m    305\u001b[0m \u001b[38;5;124;03m    \"\"\"\u001b[39;00m\n\u001b[0;32m--> 306\u001b[0m     \u001b[38;5;28;01mreturn\u001b[39;00m arith\u001b[38;5;241m.\u001b[39mConstantOp(ty, \u001b[38;5;28;43mself\u001b[39;49m\u001b[38;5;241;43m.\u001b[39;49m\u001b[43mgetFloatAttr\u001b[49m\u001b[43m(\u001b[49m\u001b[43mty\u001b[49m\u001b[43m,\u001b[49m\u001b[43m \u001b[49m\u001b[43mvalue\u001b[49m\u001b[43m)\u001b[49m)\u001b[38;5;241m.\u001b[39mresult\n",
      "File \u001b[0;32m/opt/nvidia/cudaq/cudaq/kernel/ast_bridge.py:291\u001b[0m, in \u001b[0;36mPyASTBridge.getFloatAttr\u001b[0;34m(self, type, value)\u001b[0m\n\u001b[1;32m    287\u001b[0m \u001b[38;5;28;01mdef\u001b[39;00m \u001b[38;5;21mgetFloatAttr\u001b[39m(\u001b[38;5;28mself\u001b[39m, \u001b[38;5;28mtype\u001b[39m, value):\n\u001b[1;32m    288\u001b[0m \u001b[38;5;250m    \u001b[39m\u001b[38;5;124;03m\"\"\"\u001b[39;00m\n\u001b[1;32m    289\u001b[0m \u001b[38;5;124;03m    Return an MLIR float attribute (single or double precision).\u001b[39;00m\n\u001b[1;32m    290\u001b[0m \u001b[38;5;124;03m    \"\"\"\u001b[39;00m\n\u001b[0;32m--> 291\u001b[0m     \u001b[38;5;28;01mreturn\u001b[39;00m \u001b[43mFloatAttr\u001b[49m\u001b[38;5;241;43m.\u001b[39;49m\u001b[43mget\u001b[49m\u001b[43m(\u001b[49m\u001b[38;5;28;43mtype\u001b[39;49m\u001b[43m,\u001b[49m\u001b[43m \u001b[49m\u001b[43mvalue\u001b[49m\u001b[43m)\u001b[49m\n",
      "\u001b[0;31mTypeError\u001b[0m: get(): incompatible function arguments. The following argument types are supported:\n    1. (type: cudaq.mlir._mlir_libs._mlir.ir.Type, value: float, loc: mlir.ir.Location = None) -> cudaq.mlir._mlir_libs._mlir.ir.FloatAttr\n\nInvoked with: Type(f64), (-0-0.707j)"
     ]
    }
   ],
   "source": [
    "c = [.707, -.707j]\n",
    "\n",
    "@cudaq.kernel\n",
    "def kernel():\n",
    "    q = cudaq.qvector(c)\n",
    "\n",
    "\n",
    "print(cudaq.get_state(kernel))"
   ]
  },
  {
   "cell_type": "code",
   "execution_count": 4,
   "id": "57b5d6c5-b0b7-449d-ac0c-7166e2127c00",
   "metadata": {},
   "outputs": [],
   "source": [
    "# Passing complex vectors as parameters\n",
    "c = [.707 +0j, 0-.707j]\n",
    "\n",
    "@cudaq.kernel\n",
    "def kernel(vec: list[complex]):\n",
    "    q = cudaq.qubit(vec)\n",
    "\n",
    "\n",
    "# Capturing complex vectors\n",
    "c = [0.70710678 + 0j, 0., 0., 0.70710678]\n",
    "\n",
    "@cudaq.kernel\n",
    "def kernel():\n",
    "    q = cudaq.qvector(c)\n",
    "\n",
    "\n",
    "# Precision-Agnostic API\n",
    "import numpy as np\n",
    "\n",
    "c = np.array([0.70710678 + 0j, 0., 0., 0.70710678], dtype=cudaq.complex())\n",
    "\n",
    "@cudaq.kernel\n",
    "def kernel():\n",
    "    q = cudaq.qvector(c)\n",
    "\n",
    "# Define as CUDA-Q amplitudes\n",
    "c = cudaq.amplitudes([0.70710678 + 0j, 0., 0., 0.70710678])\n",
    "\n",
    "@cudaq.kernel\n",
    "def kernel():\n",
    "    q = cudaq.qvector(c)\n",
    "\n",
    "# Pass in a state from another kernel\n",
    "c = [0.70710678 + 0j, 0., 0., 0.70710678]\n",
    "\n",
    "@cudaq.kernel\n",
    "def kernel_initial():\n",
    "    q = cudaq.qvector(c)\n",
    "\n",
    "state_to_pass = cudaq.get_state(kernel_initial)\n",
    "\n",
    "@cudaq.kernel\n",
    "def kernel(state: cudaq.State):\n",
    "    q = cudaq.qvector(state)\n",
    "\n",
    "kernel(state_to_pass)"
   ]
  },
  {
   "cell_type": "markdown",
   "id": "7d5f68d7-80cf-4e2d-861c-7f945e17b6de",
   "metadata": {},
   "source": [
    "### Applying Gates\n",
    "\n",
    "\n",
    "After a kernel is constructed, gates can be applied to start building out a quantum circuit. The image below shows all of the predefined CUDA-Q gates which are explained in detail in the API [here](https://nvidia.github.io/cuda-quantum/latest/api/default_ops.html#unitary-operations-on-qubits).\n",
    "\n",
    "\n",
    "![Htest](../images/gates.png)\n",
    "\n",
    "\n",
    "Gates can be applied to all qubits in a register:"
   ]
  },
  {
   "cell_type": "code",
   "execution_count": 8,
   "id": "8b93d86d-f6a1-4fb8-9efb-c7039ff4b383",
   "metadata": {},
   "outputs": [],
   "source": [
    "@cudaq.kernel\n",
    "def kernel():\n",
    "    register = cudaq.qvector(10)\n",
    "    h(register)"
   ]
  },
  {
   "cell_type": "markdown",
   "id": "490cb6c7-d9a2-4861-bd6d-8fddd764039c",
   "metadata": {},
   "source": [
    "Or, to individual qubits in a register:"
   ]
  },
  {
   "cell_type": "code",
   "execution_count": 9,
   "id": "5491190b-fdaa-4203-9143-fbeb1519b074",
   "metadata": {},
   "outputs": [],
   "source": [
    "@cudaq.kernel\n",
    "def kernel():\n",
    "    register = cudaq.qvector(10)\n",
    "    h(register[0])  # first qubit\n",
    "    h(register[-1])  # last qubit"
   ]
  },
  {
   "cell_type": "markdown",
   "id": "22c0e379-80fc-43b0-bee0-41d1c6492585",
   "metadata": {},
   "source": [
    "### Controlled Operations\n",
    "\n",
    "Controlled operations are available for any gate and can be used by adding `.ctrl` to the end of any gate, followed by specification of the control qubit and the target qubit."
   ]
  },
  {
   "cell_type": "code",
   "execution_count": 10,
   "id": "68b48107-e326-4a8a-986b-eb2df6207538",
   "metadata": {},
   "outputs": [],
   "source": [
    "@cudaq.kernel\n",
    "def kernel():\n",
    "    register = cudaq.qvector(10)\n",
    "    x.ctrl(register[0], register[1])  # CNOT gate applied with qubit 0 as control"
   ]
  },
  {
   "cell_type": "markdown",
   "id": "b88044d5-f0d2-429a-824e-6e11617d5e75",
   "metadata": {},
   "source": [
    "### Multi-Controlled Operations\n",
    "\n",
    "It is valid for more than one qubit to be used for multi-controlled gates. The control qubits are specified as a list."
   ]
  },
  {
   "cell_type": "code",
   "execution_count": 11,
   "id": "03843595-5b4b-4684-ad41-974f7c84470a",
   "metadata": {},
   "outputs": [],
   "source": [
    "@cudaq.kernel\n",
    "def kernel():\n",
    "    register = cudaq.qvector(10)\n",
    "    x.ctrl([register[0], register[1]], register[2])  # X applied to qubit two controlled by qubit 0 and 1"
   ]
  },
  {
   "cell_type": "markdown",
   "id": "47d6a1de-f659-4c58-b2ed-91d1682dad18",
   "metadata": {},
   "source": [
    "### Adjoit Operations\n",
    "\n",
    "The adjoint of a gate can be applied by appending the gate with the `adj` designation."
   ]
  },
  {
   "cell_type": "code",
   "execution_count": 12,
   "id": "74db71e1-4046-454e-a434-2bd27fda2336",
   "metadata": {},
   "outputs": [],
   "source": [
    "@cudaq.kernel\n",
    "def kernel():\n",
    "    register = cudaq.qvector(10)\n",
    "    t.adj(register[0])"
   ]
  },
  {
   "cell_type": "markdown",
   "id": "e61ba842-c969-4ad0-95ee-0916ec753b4f",
   "metadata": {},
   "source": [
    "### Custom Operations\n",
    "\n",
    "Custom gate operations can be specified using `cudaq.register_operation`. A one-dimensional Numpy array specifies the unitary matrix to be applied. The entries of the array read from top to bottom through the rows."
   ]
  },
  {
   "cell_type": "code",
   "execution_count": 13,
   "id": "d51340c1-d211-4ddc-aaf4-ba59a91ba9cb",
   "metadata": {},
   "outputs": [],
   "source": [
    "import numpy as np\n",
    "\n",
    "cudaq.register_operation(\"custom_x\", np.array([0, 1, 1, 0]))\n",
    "\n",
    "@cudaq.kernel\n",
    "def kernel():\n",
    "    qubits = cudaq.qvector(2)\n",
    "    h(qubits[0])\n",
    "    custom_x(qubits[0])\n",
    "    custom_x.ctrl(qubits[0], qubits[1])"
   ]
  },
  {
   "cell_type": "markdown",
   "id": "aa410efc-fcb1-43e1-ab99-25a7fcbab868",
   "metadata": {},
   "source": [
    "### Measurement\n",
    "\n",
    "Kernel measurement can be specified in the Z, X, or Y basis using `mz`, `mx`, and `my`. If a measurement is specified with no argument, the entire kernel is measured in that basis. Measurement occurs in the Z basis by default."
   ]
  },
  {
   "cell_type": "code",
   "execution_count": 14,
   "id": "7f45a62e-48cb-4705-8081-e59782c91b5f",
   "metadata": {},
   "outputs": [],
   "source": [
    "@cudaq.kernel\n",
    "def kernel():\n",
    "    qubits = cudaq.qvector(2)\n",
    "    mz()"
   ]
  },
  {
   "cell_type": "markdown",
   "id": "39efaac5-5400-4df6-ac5d-80637d9d3082",
   "metadata": {},
   "source": [
    "Specific qubits or registers can be measured rather than the entire kernel."
   ]
  },
  {
   "cell_type": "code",
   "execution_count": 15,
   "id": "16a14177-fa79-4eb3-8fc8-f3e937bc21b4",
   "metadata": {},
   "outputs": [],
   "source": [
    "@cudaq.kernel\n",
    "def kernel():\n",
    "    qubits_a = cudaq.qvector(2)\n",
    "    qubit_b = cudaq.qubit()\n",
    "    mz(qubits_a)\n",
    "    mx(qubit_b)"
   ]
  },
  {
   "cell_type": "markdown",
   "id": "fb5dd767-5db7-4847-b04e-ae5695066800",
   "metadata": {},
   "source": [
    "### Midcircuit Measurement and Conditional Logic\n",
    "\n",
    "In certain cases, it it is helpful for some operations in a quantum kernel to depend on measurement results following previous operations. This is accomplished in the following example by performing a Hadamard on qubit 0, then measuring qubit 0 and savig the result as `b0`. Then, an if statement performs a Hadamard on qubit 1 only if `b0` is 1. Measuring this qubit 1 verifies this process as a 1 is the result 25% of the time."
   ]
  },
  {
   "cell_type": "code",
   "execution_count": null,
   "id": "44001a51-3733-472c-8bc1-ee694e957708",
   "metadata": {},
   "outputs": [],
   "source": [
    "@cudaq.kernel\n",
    "def kernel():\n",
    "    q = cudaq.qvector(2)\n",
    "    h(q[0])\n",
    "    b0 = mz(q[0])\n",
    "    if b0:\n",
    "        h(q[1])\n",
    "        mz(q[1])"
   ]
  },
  {
   "cell_type": "markdown",
   "id": "ef38ddbb-433c-49d6-a124-8da3ef034c04",
   "metadata": {},
   "source": [
    "### Building Kernels with Kernels\n",
    "\n",
    "For many complex applications, it is helpful for a kernel to call another kernel to perform a specific subroutine. The example blow shows how `kernel_A` can be caled within `kernel_B` to perform CNOT operations."
   ]
  },
  {
   "cell_type": "code",
   "execution_count": 16,
   "id": "7d298eaf-08a4-4905-89d2-f52b79dc1484",
   "metadata": {},
   "outputs": [],
   "source": [
    "@cudaq.kernel\n",
    "def kernel_A(qubit_0: cudaq.qubit, qubit_1: cudaq.qubit):\n",
    "    x.ctrl(qubit_0, qubit_1)\n",
    "\n",
    "@cudaq.kernel\n",
    "def kernel_B():\n",
    "    reg = cudaq.qvector(10)\n",
    "    for i in range(5):\n",
    "        kernel_A(reg[i], reg[i + 1])"
   ]
  },
  {
   "cell_type": "markdown",
   "id": "c7b3cb6b-74ca-49e2-9ea5-c9f69b0316ed",
   "metadata": {},
   "source": [
    "### Parameterized Kernels\n",
    "\n",
    "It is often useful to define parameterized circuit kernels which can be used for applications like VQE."
   ]
  },
  {
   "cell_type": "code",
   "execution_count": 17,
   "id": "d05544d4-fb57-49d7-84ff-d9dd090f49fb",
   "metadata": {},
   "outputs": [],
   "source": [
    "@cudaq.kernel\n",
    "def kernel(thetas: list[float]):\n",
    "    qubits = cudaq.qvector(2)\n",
    "    rx(thetas[0], qubits[0])\n",
    "    ry(thetas[1], qubits[1])\n",
    "\n",
    "thetas = [.024, .543]\n",
    "\n",
    "kernel(thetas)"
   ]
  }
 ],
 "metadata": {
  "kernelspec": {
   "display_name": "Python 3 (ipykernel)",
   "language": "python",
   "name": "python3"
  },
  "language_info": {
   "codemirror_mode": {
    "name": "ipython",
    "version": 3
   },
   "file_extension": ".py",
   "mimetype": "text/x-python",
   "name": "python",
   "nbconvert_exporter": "python",
   "pygments_lexer": "ipython3",
   "version": "3.10.12"
  }
 },
 "nbformat": 4,
 "nbformat_minor": 5
}
