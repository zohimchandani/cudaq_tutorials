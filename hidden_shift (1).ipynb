{
 "cells": [
  {
   "cell_type": "code",
   "execution_count": 1,
   "metadata": {},
   "outputs": [],
   "source": [
    "import cudaq "
   ]
  },
  {
   "cell_type": "code",
   "execution_count": 2,
   "metadata": {},
   "outputs": [],
   "source": [
    "@cudaq.kernel\n",
    "def Uf(num_qubits: int, qubits: cudaq.qview, shift: list[int]): \n",
    "            \n",
    "    for i_qubit in range(num_qubits):\n",
    "        if shift[num_qubits-1-i_qubit] == 1 :\n",
    "            x(qubits[i_qubit])\n",
    "\n",
    "    for i_qubit in range(0,num_qubits-1,2):\n",
    "        cz(qubits[i_qubit], qubits[i_qubit+1])\n",
    "        \n",
    "    for i_qubit in range(num_qubits):\n",
    "        if shift[num_qubits-1-i_qubit] == 1:\n",
    "            x(qubits[i_qubit])"
   ]
  },
  {
   "cell_type": "code",
   "execution_count": 3,
   "metadata": {},
   "outputs": [],
   "source": [
    "@cudaq.kernel\n",
    "def Ug(num_qubits: int, qubits: cudaq.qview): \n",
    "    \n",
    "    for i_qubit in range(0,num_qubits-1,2):\n",
    "        cz(qubits[i_qubit], qubits[i_qubit+1])\n",
    "    "
   ]
  },
  {
   "cell_type": "code",
   "execution_count": 4,
   "metadata": {},
   "outputs": [
    {
     "name": "stdout",
     "output_type": "stream",
     "text": [
      "[0, 1, 0, 0]\n",
      "     ╭───╮     ╭───╮     ╭───╮          \n",
      "q0 : ┤ h ├──●──┤ h ├──●──┤ h ├──────────\n",
      "     ├───┤╭─┴─╮├───┤╭─┴─╮├───┤          \n",
      "q1 : ┤ h ├┤ z ├┤ h ├┤ z ├┤ h ├──────────\n",
      "     ├───┤├───┤╰───╯├───┤├───┤     ╭───╮\n",
      "q2 : ┤ h ├┤ x ├──●──┤ x ├┤ h ├──●──┤ h ├\n",
      "     ├───┤╰───╯╭─┴─╮├───┤╰───╯╭─┴─╮├───┤\n",
      "q3 : ┤ h ├─────┤ z ├┤ h ├─────┤ z ├┤ h ├\n",
      "     ╰───╯     ╰───╯╰───╯     ╰───╯╰───╯\n",
      "\n",
      "{ 0010:1000 }\n",
      "\n"
     ]
    }
   ],
   "source": [
    "@cudaq.kernel\n",
    "def hidden_shift(num_qubits: int, shift: list[int]): \n",
    "    \n",
    "    qubits = cudaq.qvector(num_qubits)\n",
    "    \n",
    "    h(qubits)\n",
    "    \n",
    "    Uf(num_qubits, qubits, shift)\n",
    "    \n",
    "    h(qubits)\n",
    "    \n",
    "    Ug(num_qubits, qubits)\n",
    "    \n",
    "    h(qubits)\n",
    "    \n",
    "    mz(qubits)\n",
    "\n",
    "num_qubits = 4\n",
    "secret_int = 4\n",
    "shift = [int(bit) for bit in ('{0:0'+str(num_qubits)+'b}').format(secret_int)]\n",
    "print(shift)\n",
    "\n",
    "print(cudaq.draw(hidden_shift, num_qubits, shift))\n",
    "print(cudaq.sample(hidden_shift, num_qubits, shift))\n",
    "    "
   ]
  },
  {
   "cell_type": "code",
   "execution_count": null,
   "metadata": {},
   "outputs": [],
   "source": []
  }
 ],
 "metadata": {
  "kernelspec": {
   "display_name": "Python 3",
   "language": "python",
   "name": "python3"
  },
  "language_info": {
   "codemirror_mode": {
    "name": "ipython",
    "version": 3
   },
   "file_extension": ".py",
   "mimetype": "text/x-python",
   "name": "python",
   "nbconvert_exporter": "python",
   "pygments_lexer": "ipython3",
   "version": "3.10.12"
  }
 },
 "nbformat": 4,
 "nbformat_minor": 2
}
